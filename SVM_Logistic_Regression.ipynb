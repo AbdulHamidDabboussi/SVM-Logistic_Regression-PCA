{
  "nbformat": 4,
  "nbformat_minor": 0,
  "metadata": {
    "colab": {
      "name": "SVM_Logistic_Regression.ipynb",
      "provenance": [],
      "collapsed_sections": [],
      "authorship_tag": "ABX9TyNJVlt6MEgP+qfnrlQ/CKMI",
      "include_colab_link": true
    },
    "kernelspec": {
      "name": "python3",
      "display_name": "Python 3"
    }
  },
  "cells": [
    {
      "cell_type": "markdown",
      "metadata": {
        "id": "view-in-github",
        "colab_type": "text"
      },
      "source": [
        "<a href=\"https://colab.research.google.com/github/AbdulHamidDabboussi/SVM-Logistic_Regression-PCA/blob/master/SVM_Logistic_Regression.ipynb\" target=\"_parent\"><img src=\"https://colab.research.google.com/assets/colab-badge.svg\" alt=\"Open In Colab\"/></a>"
      ]
    },
    {
      "cell_type": "markdown",
      "metadata": {
        "id": "Tg-wElFOml6L",
        "colab_type": "text"
      },
      "source": [
        "Mounting Drive"
      ]
    },
    {
      "cell_type": "code",
      "metadata": {
        "id": "D2oUn5b0yvj_",
        "colab_type": "code",
        "outputId": "6d4e6555-2c97-42c0-8d2a-8dcfb9c2a2f6",
        "colab": {
          "base_uri": "https://localhost:8080/",
          "height": 154
        }
      },
      "source": [
        "from google.colab import drive\n",
        "drive.mount('/gdrive')\n",
        "!ls /gdrive/My\\ Drive/Bilkent/Year\\ 3/CS464"
      ],
      "execution_count": 0,
      "outputs": [
        {
          "output_type": "stream",
          "text": [
            "Go to this URL in a browser: https://accounts.google.com/o/oauth2/auth?client_id=947318989803-6bn6qk8qdgf4n4g3pfee6491hc0brc4i.apps.googleusercontent.com&redirect_uri=urn%3aietf%3awg%3aoauth%3a2.0%3aoob&response_type=code&scope=email%20https%3a%2f%2fwww.googleapis.com%2fauth%2fdocs.test%20https%3a%2f%2fwww.googleapis.com%2fauth%2fdrive%20https%3a%2f%2fwww.googleapis.com%2fauth%2fdrive.photos.readonly%20https%3a%2f%2fwww.googleapis.com%2fauth%2fpeopleapi.readonly\n",
            "\n",
            "Enter your authorization code:\n",
            "··········\n",
            "Mounted at /gdrive\n",
            "q1_dataset.mat\tq2_gag_sequence.txt  q2_train_set.txt\n",
            "q2_dataset.mat\tq2_test_set.txt\n"
          ],
          "name": "stdout"
        }
      ]
    },
    {
      "cell_type": "markdown",
      "metadata": {
        "id": "KLwth0WPmzF6",
        "colab_type": "text"
      },
      "source": [
        "Import Libraries"
      ]
    },
    {
      "cell_type": "code",
      "metadata": {
        "id": "-Qf2k3Vlm6AF",
        "colab_type": "code",
        "colab": {}
      },
      "source": [
        "import os\n",
        "import numpy as np\n",
        "import scipy.io as spio\n",
        "import matplotlib.pyplot as plt\n",
        "from sklearn import svm\n",
        "from sklearn import metrics"
      ],
      "execution_count": 0,
      "outputs": []
    },
    {
      "cell_type": "markdown",
      "metadata": {
        "id": "xrhox3fHsVx_",
        "colab_type": "text"
      },
      "source": [
        "Load data files"
      ]
    },
    {
      "cell_type": "code",
      "metadata": {
        "id": "W-ss7iZVsXr2",
        "colab_type": "code",
        "colab": {}
      },
      "source": [
        "root = '/gdrive/My Drive/Bilkent/Year 3/CS464'\n",
        "q1_data = os.path.join(root, 'q1_dataset.mat')\n",
        "q2_data = os.path.join(root, 'q2_dataset.mat')\n",
        "data = spio.loadmat(q1_data)\n",
        "image_tensor = spio.loadmat(q2_data)"
      ],
      "execution_count": 0,
      "outputs": []
    },
    {
      "cell_type": "code",
      "metadata": {
        "id": "HRxUWDCEs6m5",
        "colab_type": "code",
        "colab": {}
      },
      "source": [
        "hog_features_test = np.array(data['hog_features_test'])\n",
        "hog_features_train = np.array(data['hog_features_train'])\n",
        "inception_features_test = np.array(data['inception_features_test'])\n",
        "inception_features_train = np.array(data['inception_features_train'])\n",
        "subclass_labels_test = np.array(data['subclass_labels_test'])\n",
        "subclass_labels_train = np.array(data['subclass_labels_train'])\n",
        "superclass_labels_test = np.array(data['superclass_labels_test'])\n",
        "superclass_labels_train = np.array(data['superclass_labels_train'])\n",
        "image = image_tensor['data']\n",
        "image_matrix = image.reshape((150, 10625))"
      ],
      "execution_count": 0,
      "outputs": []
    },
    {
      "cell_type": "code",
      "metadata": {
        "id": "uv9CbXhgk-9j",
        "colab_type": "code",
        "colab": {}
      },
      "source": [
        "def sigmoid(z):\n",
        "    return 1 / (1 + np.exp(-z))\n",
        "\n",
        "def fit(X, y, batch_size = 25, learning_rate = 0.01, iterations = 1000):\n",
        "    m, n = np.shape(X)\n",
        "    # weights initialization is gaussian distributed\n",
        "    weights = np.random.normal(0, 0.01, (n, 1))\n",
        "    data = np.hstack((X, y)) \n",
        "    \n",
        "    for i in range(iterations):\n",
        "\n",
        "        if batch_size == m and i % 100 == 0:\n",
        "            #print(np.ndarray.flatten(weights))\n",
        "            print(np.argsort(np.ndarray.flatten(weights))[:-10:-1])\n",
        "            \n",
        "\n",
        "        np.random.shuffle(data) \n",
        "        batches = [data[k:k+batch_size] for k in range (0, m, batch_size)]\n",
        "        for batch in batches:\n",
        "            X_batch = batch[: , :-1]\n",
        "            y_batch = batch[:, -1].reshape((-1, 1)) \n",
        "            z = np.dot(X_batch, weights)\n",
        "            h = sigmoid(z)\n",
        "            error = y_batch - h\n",
        "            weights += learning_rate * np.dot(X_batch.T, error)\n",
        "            \n",
        "\n",
        "    return weights"
      ],
      "execution_count": 0,
      "outputs": []
    },
    {
      "cell_type": "code",
      "metadata": {
        "id": "kUWD-HMS9ke1",
        "colab_type": "code",
        "colab": {}
      },
      "source": [
        "def metric(y_label, y_pred):\n",
        "    test_labels = y_label\n",
        "    y_pred = y_pred\n",
        "\n",
        "    correct = 0\n",
        "    TN = 0\n",
        "    TP = 0\n",
        "    FN = 0\n",
        "    FP = 0\n",
        "    for g_y, p_y in zip(test_labels, y_pred):\n",
        "        if g_y == p_y: \n",
        "            correct += 1\n",
        "        if p_y == 0 and g_y == 0:\n",
        "            TN += 1\n",
        "        if p_y == 0 and g_y == 1:\n",
        "            FN += 1\n",
        "        if p_y == 1 and g_y == 0:\n",
        "            FP += 1\n",
        "        if p_y == 1 and g_y == 1:\n",
        "            TP += 1\n",
        "\n",
        "    accuracy = np.around((correct/float(len(y_pred))*100), decimals = 2)\n",
        "    precision = TP/(TP + FP)\n",
        "    recall = TP/(TP + FN)\n",
        "    NPV = TN/(TN + FN)\n",
        "    FPR = FP/(FP + TN)\n",
        "    FDR = FP/(FP + TP)\n",
        "    F1 = 2 * (precision * recall) / (precision + recall)\n",
        "    F2 = 5 * (precision * recall) / (4*precision + recall)\n",
        "\n",
        "    print(\"TP = \" + str(TP) + \"   FP = \" + str(FP))\n",
        "    print(\"FN = \" + str(FN) + \"    TN = \" + str(TN))\n",
        "\n",
        "    print(\"Accuracy = \" + str(accuracy) + \"%\")\n",
        "    print(\"Precision = \" + str(precision))\n",
        "    print(\"Recall = \" + str(recall))\n",
        "    print(\"NPV = \" + str(NPV))\n",
        "    print(\"FPR = \" + str(FPR))\n",
        "    print(\"FDR = \" + str(FDR))\n",
        "    print(\"F1-score = \" + str(F1))\n",
        "    print(\"F2-score = \" + str(F2))\n",
        "\n",
        "\n",
        "def test(test_features, test_labels, weights):     \n",
        "    y_pred = np.around(sigmoid(np.dot(test_features, weights)))\n",
        "    metric(test_labels, y_pred)\n"
      ],
      "execution_count": 0,
      "outputs": []
    },
    {
      "cell_type": "code",
      "metadata": {
        "id": "4J7geJLJ6p5L",
        "colab_type": "code",
        "outputId": "a48016d4-7aa9-4dc7-a3ac-a0c9bb5f6f66",
        "colab": {
          "base_uri": "https://localhost:8080/",
          "height": 1000
        }
      },
      "source": [
        "#HOG part\n",
        "print(\"HOG Stochastic\\n\")\n",
        "%time w = fit(hog_features_train, superclass_labels_train, 1, 0.1)\n",
        "test(hog_features_test, superclass_labels_test, w)\n",
        "\n",
        "print(\"\\nHOG Mini Batch\\n\")\n",
        "%time w = fit(hog_features_train, superclass_labels_train, 25, 0.1)\n",
        "test(hog_features_test, superclass_labels_test, w)\n",
        "\n",
        "print(\"\\nHOG Batch\\n\")\n",
        "%time w = fit(hog_features_train, superclass_labels_train, hog_features_train.shape[0], 0.1)\n",
        "test(hog_features_test, superclass_labels_test, w)\n",
        "\n",
        "#Neural network part\n",
        "print(\"\\nInception Stochastic\\n\")\n",
        "%time w = fit(inception_features_train, superclass_labels_train, 1, 0.1)\n",
        "test(inception_features_test, superclass_labels_test, w)\n",
        "\n",
        "print(\"\\nInception Mini Batch\\n\")\n",
        "%time w = fit(inception_features_train, superclass_labels_train, 25, 0.1)\n",
        "test(inception_features_test, superclass_labels_test, w)\n",
        "\n",
        "print(\"\\nInception Batch\\n\")\n",
        "%time w = fit(inception_features_train, superclass_labels_train, inception_features_train.shape[0], 0.1)\n",
        "test(inception_features_test, superclass_labels_test, w)"
      ],
      "execution_count": 0,
      "outputs": [
        {
          "output_type": "stream",
          "text": [
            "HOG Stochastic\n",
            "\n",
            "CPU times: user 33.4 s, sys: 18.6 ms, total: 33.4 s\n",
            "Wall time: 33.4 s\n",
            "TP = 121   FP = 71\n",
            "FN = 79    TN = 129\n",
            "Accuracy = 62.5%\n",
            "Precision = 0.6302083333333334\n",
            "Recall = 0.605\n",
            "NPV = 0.6201923076923077\n",
            "FPR = 0.355\n",
            "FDR = 0.3697916666666667\n",
            "F1-score = 0.6173469387755102\n",
            "F2-score = 0.6098790322580645\n",
            "\n",
            "HOG Mini Batch\n",
            "\n",
            "CPU times: user 9.83 s, sys: 108 ms, total: 9.94 s\n",
            "Wall time: 9.83 s\n",
            "TP = 123   FP = 76\n",
            "FN = 77    TN = 124\n",
            "Accuracy = 61.75%\n",
            "Precision = 0.6180904522613065\n",
            "Recall = 0.615\n",
            "NPV = 0.6169154228855721\n",
            "FPR = 0.38\n",
            "FDR = 0.38190954773869346\n",
            "F1-score = 0.6165413533834587\n",
            "F2-score = 0.6156156156156156\n",
            "\n",
            "HOG Batch\n",
            "\n",
            "[284 260 231 276 241  95 235 201 120]\n",
            "[154 155 290 289  29 153   9 288 164]\n",
            "[154 155 290  29 289 225 315   9 317]\n",
            "[315 317 225 154  29 155 290   9 289]\n",
            "[315 317 225  29   9 216 155 290 154]\n",
            "[315 317 225 216   9  29 290 155  81]\n",
            "[315 216 317 225   9  29  81 263 290]\n",
            "[315 216 317 225   9  29  81 263 290]\n",
            "[315 216 317 225   9 263  29  81 290]\n",
            "[315 216 225 317   9 263  29  81 128]\n",
            "CPU times: user 11.9 s, sys: 7.87 s, total: 19.7 s\n",
            "Wall time: 10.1 s\n",
            "TP = 182   FP = 138\n",
            "FN = 18    TN = 62\n",
            "Accuracy = 61.0%\n",
            "Precision = 0.56875\n",
            "Recall = 0.91\n",
            "NPV = 0.775\n",
            "FPR = 0.69\n",
            "FDR = 0.43125\n",
            "F1-score = 0.7000000000000001\n",
            "F2-score = 0.8125\n",
            "\n",
            "Inception Stochastic\n",
            "\n",
            "CPU times: user 1min 54s, sys: 117 ms, total: 1min 54s\n",
            "Wall time: 1min 54s\n",
            "TP = 179   FP = 27\n",
            "FN = 21    TN = 173\n",
            "Accuracy = 88.0%\n",
            "Precision = 0.8689320388349514\n",
            "Recall = 0.895\n",
            "NPV = 0.8917525773195877\n",
            "FPR = 0.135\n",
            "FDR = 0.13106796116504854\n",
            "F1-score = 0.8817733990147784\n",
            "F2-score = 0.889662027833002\n",
            "\n",
            "Inception Mini Batch\n",
            "\n",
            "CPU times: user 2min 16s, sys: 1min 38s, total: 3min 55s\n",
            "Wall time: 1min 59s\n",
            "TP = 176   FP = 26\n",
            "FN = 24    TN = 174\n",
            "Accuracy = 87.5%\n",
            "Precision = 0.8712871287128713\n",
            "Recall = 0.88\n",
            "NPV = 0.8787878787878788\n",
            "FPR = 0.13\n",
            "FDR = 0.12871287128712872\n",
            "F1-score = 0.8756218905472637\n",
            "F2-score = 0.8782435129740518\n",
            "\n",
            "Inception Batch\n",
            "\n",
            "[1026  662 1693 1487 1379 1776 1747  145 1602]\n"
          ],
          "name": "stdout"
        },
        {
          "output_type": "stream",
          "text": [
            "/usr/local/lib/python3.6/dist-packages/ipykernel_launcher.py:2: RuntimeWarning: overflow encountered in exp\n",
            "  \n"
          ],
          "name": "stderr"
        },
        {
          "output_type": "stream",
          "text": [
            "[ 193 1545 1701 1058  123  993 1615  119 1445]\n",
            "[ 123 1545 1701 1108  193  993 1928 1783 1950]\n",
            "[ 123 1701 1108 1545 1928  193  993 1950 1783]\n",
            "[ 123 1108 1928  993 1701 1783 1545 1950 1189]\n",
            "[ 123 1108 1928  993 1783 1189 1701 1950 1948]\n",
            "[ 123 1928 1108  993 1783 1189 1948 1950  274]\n",
            "[ 123  993 1108 1928 1783 1189 1020 1948  274]\n",
            "[ 123  993 1108 1928 1783 1948 1189 1020  187]\n",
            "[ 123  993 1783 1108 1948 1189 1928 1020  187]\n",
            "CPU times: user 1min 37s, sys: 1min 2s, total: 2min 40s\n",
            "Wall time: 1min 21s\n",
            "TP = 175   FP = 20\n",
            "FN = 25    TN = 180\n",
            "Accuracy = 88.75%\n",
            "Precision = 0.8974358974358975\n",
            "Recall = 0.875\n",
            "NPV = 0.8780487804878049\n",
            "FPR = 0.1\n",
            "FDR = 0.10256410256410256\n",
            "F1-score = 0.8860759493670887\n",
            "F2-score = 0.8793969849246231\n"
          ],
          "name": "stdout"
        }
      ]
    },
    {
      "cell_type": "code",
      "metadata": {
        "id": "bTogyRG6IbPd",
        "colab_type": "code",
        "colab": {}
      },
      "source": [
        "def stratified_k_fold(features, labels, k):\n",
        "    data = np.hstack((features, labels))\n",
        "    np.random.shuffle(data)\n",
        "    folds = np.array_split(data, k)\n",
        "\n",
        "    return folds"
      ],
      "execution_count": 0,
      "outputs": []
    },
    {
      "cell_type": "code",
      "metadata": {
        "id": "QZEwHE3RMRF6",
        "colab_type": "code",
        "colab": {}
      },
      "source": [
        "folds_hog = stratified_k_fold(hog_features_train, superclass_labels_train, 5)\n",
        "folds_inception = stratified_k_fold(inception_features_train, superclass_labels_train, 5)"
      ],
      "execution_count": 0,
      "outputs": []
    },
    {
      "cell_type": "code",
      "metadata": {
        "id": "7yMJhwB95EMl",
        "colab_type": "code",
        "colab": {}
      },
      "source": [
        "def k_fold_validation(model, folds):\n",
        "    accuracy = []\n",
        "    for i in range(0, 5):\n",
        "        if i == 0:\n",
        "            data = np.vstack((folds[1:]))\n",
        "        elif i == 4:\n",
        "            data = np.vstack((folds[:-1]))\n",
        "        else:\n",
        "            print\n",
        "            data1 = np.vstack((folds[:i]))\n",
        "            data2 = np.vstack((folds[i+1:]))\n",
        "            data = np.vstack((data1, data2))\n",
        "        model.fit(data[:,:-1], data[:,-1])\n",
        "        accuracy.append(model.score(folds[i][:,:-1], folds[i][:,-1]))\n",
        "    print(\"Mean accuracy = \" +str(np.mean(accuracy)))"
      ],
      "execution_count": 0,
      "outputs": []
    },
    {
      "cell_type": "code",
      "metadata": {
        "id": "3cgLQwph19av",
        "colab_type": "code",
        "outputId": "cfa44621-c944-4f4f-a71c-803bb9d0c144",
        "colab": {
          "base_uri": "https://localhost:8080/",
          "height": 404
        }
      },
      "source": [
        "C = [0.01, 0.1, 1, 10, 100]\n",
        "print(\"HOG\")\n",
        "for c in C:\n",
        "    print(\"For c = \" + str(c))\n",
        "    model = svm.SVC(C=c, kernel='linear')\n",
        "    k_fold_validation(model, folds_hog)\n",
        "    print('\\n')\n",
        "\n",
        "print(\"\\nInception\")\n",
        "for c in C:\n",
        "    print(\"For c = \" + str(c))\n",
        "    model = svm.SVC(C=c, kernel='linear')\n",
        "    k_fold_validation(model, folds_inception)\n",
        "    print('\\n')"
      ],
      "execution_count": 0,
      "outputs": [
        {
          "output_type": "stream",
          "text": [
            "HOG\n",
            "For c = 0.01\n"
          ],
          "name": "stdout"
        },
        {
          "output_type": "error",
          "ename": "KeyboardInterrupt",
          "evalue": "ignored",
          "traceback": [
            "\u001b[0;31m---------------------------------------------------------------------------\u001b[0m",
            "\u001b[0;31mKeyboardInterrupt\u001b[0m                         Traceback (most recent call last)",
            "\u001b[0;32m<ipython-input-10-5815af1f8047>\u001b[0m in \u001b[0;36m<module>\u001b[0;34m()\u001b[0m\n\u001b[1;32m      4\u001b[0m     \u001b[0mprint\u001b[0m\u001b[0;34m(\u001b[0m\u001b[0;34m\"For c = \"\u001b[0m \u001b[0;34m+\u001b[0m \u001b[0mstr\u001b[0m\u001b[0;34m(\u001b[0m\u001b[0mc\u001b[0m\u001b[0;34m)\u001b[0m\u001b[0;34m)\u001b[0m\u001b[0;34m\u001b[0m\u001b[0;34m\u001b[0m\u001b[0m\n\u001b[1;32m      5\u001b[0m     \u001b[0mmodel\u001b[0m \u001b[0;34m=\u001b[0m \u001b[0msvm\u001b[0m\u001b[0;34m.\u001b[0m\u001b[0mSVC\u001b[0m\u001b[0;34m(\u001b[0m\u001b[0mC\u001b[0m\u001b[0;34m=\u001b[0m\u001b[0mc\u001b[0m\u001b[0;34m,\u001b[0m \u001b[0mkernel\u001b[0m\u001b[0;34m=\u001b[0m\u001b[0;34m'linear'\u001b[0m\u001b[0;34m)\u001b[0m\u001b[0;34m\u001b[0m\u001b[0;34m\u001b[0m\u001b[0m\n\u001b[0;32m----> 6\u001b[0;31m     \u001b[0mk_fold_validation\u001b[0m\u001b[0;34m(\u001b[0m\u001b[0mmodel\u001b[0m\u001b[0;34m,\u001b[0m \u001b[0mfolds_hog\u001b[0m\u001b[0;34m)\u001b[0m\u001b[0;34m\u001b[0m\u001b[0;34m\u001b[0m\u001b[0m\n\u001b[0m\u001b[1;32m      7\u001b[0m     \u001b[0mprint\u001b[0m\u001b[0;34m(\u001b[0m\u001b[0;34m'\\n'\u001b[0m\u001b[0;34m)\u001b[0m\u001b[0;34m\u001b[0m\u001b[0;34m\u001b[0m\u001b[0m\n\u001b[1;32m      8\u001b[0m \u001b[0;34m\u001b[0m\u001b[0m\n",
            "\u001b[0;32m<ipython-input-9-5f92f9d526cd>\u001b[0m in \u001b[0;36mk_fold_validation\u001b[0;34m(model, folds)\u001b[0m\n\u001b[1;32m     11\u001b[0m             \u001b[0mdata2\u001b[0m \u001b[0;34m=\u001b[0m \u001b[0mnp\u001b[0m\u001b[0;34m.\u001b[0m\u001b[0mvstack\u001b[0m\u001b[0;34m(\u001b[0m\u001b[0;34m(\u001b[0m\u001b[0mfolds\u001b[0m\u001b[0;34m[\u001b[0m\u001b[0mi\u001b[0m\u001b[0;34m+\u001b[0m\u001b[0;36m1\u001b[0m\u001b[0;34m:\u001b[0m\u001b[0;34m]\u001b[0m\u001b[0;34m)\u001b[0m\u001b[0;34m)\u001b[0m\u001b[0;34m\u001b[0m\u001b[0;34m\u001b[0m\u001b[0m\n\u001b[1;32m     12\u001b[0m             \u001b[0mdata\u001b[0m \u001b[0;34m=\u001b[0m \u001b[0mnp\u001b[0m\u001b[0;34m.\u001b[0m\u001b[0mvstack\u001b[0m\u001b[0;34m(\u001b[0m\u001b[0;34m(\u001b[0m\u001b[0mdata1\u001b[0m\u001b[0;34m,\u001b[0m \u001b[0mdata2\u001b[0m\u001b[0;34m)\u001b[0m\u001b[0;34m)\u001b[0m\u001b[0;34m\u001b[0m\u001b[0;34m\u001b[0m\u001b[0m\n\u001b[0;32m---> 13\u001b[0;31m         \u001b[0mmodel\u001b[0m\u001b[0;34m.\u001b[0m\u001b[0mfit\u001b[0m\u001b[0;34m(\u001b[0m\u001b[0mdata\u001b[0m\u001b[0;34m[\u001b[0m\u001b[0;34m:\u001b[0m\u001b[0;34m,\u001b[0m\u001b[0;34m:\u001b[0m\u001b[0;34m-\u001b[0m\u001b[0;36m1\u001b[0m\u001b[0;34m]\u001b[0m\u001b[0;34m,\u001b[0m \u001b[0mdata\u001b[0m\u001b[0;34m[\u001b[0m\u001b[0;34m:\u001b[0m\u001b[0;34m,\u001b[0m\u001b[0;34m-\u001b[0m\u001b[0;36m1\u001b[0m\u001b[0;34m]\u001b[0m\u001b[0;34m)\u001b[0m\u001b[0;34m\u001b[0m\u001b[0;34m\u001b[0m\u001b[0m\n\u001b[0m\u001b[1;32m     14\u001b[0m         \u001b[0maccuracy\u001b[0m\u001b[0;34m.\u001b[0m\u001b[0mappend\u001b[0m\u001b[0;34m(\u001b[0m\u001b[0mmodel\u001b[0m\u001b[0;34m.\u001b[0m\u001b[0mscore\u001b[0m\u001b[0;34m(\u001b[0m\u001b[0mfolds\u001b[0m\u001b[0;34m[\u001b[0m\u001b[0mi\u001b[0m\u001b[0;34m]\u001b[0m\u001b[0;34m[\u001b[0m\u001b[0;34m:\u001b[0m\u001b[0;34m,\u001b[0m\u001b[0;34m:\u001b[0m\u001b[0;34m-\u001b[0m\u001b[0;36m1\u001b[0m\u001b[0;34m]\u001b[0m\u001b[0;34m,\u001b[0m \u001b[0mfolds\u001b[0m\u001b[0;34m[\u001b[0m\u001b[0mi\u001b[0m\u001b[0;34m]\u001b[0m\u001b[0;34m[\u001b[0m\u001b[0;34m:\u001b[0m\u001b[0;34m,\u001b[0m\u001b[0;34m-\u001b[0m\u001b[0;36m1\u001b[0m\u001b[0;34m]\u001b[0m\u001b[0;34m)\u001b[0m\u001b[0;34m)\u001b[0m\u001b[0;34m\u001b[0m\u001b[0;34m\u001b[0m\u001b[0m\n\u001b[1;32m     15\u001b[0m     \u001b[0mprint\u001b[0m\u001b[0;34m(\u001b[0m\u001b[0;34m\"Mean accuracy = \"\u001b[0m \u001b[0;34m+\u001b[0m\u001b[0mstr\u001b[0m\u001b[0;34m(\u001b[0m\u001b[0mnp\u001b[0m\u001b[0;34m.\u001b[0m\u001b[0mmean\u001b[0m\u001b[0;34m(\u001b[0m\u001b[0maccuracy\u001b[0m\u001b[0;34m)\u001b[0m\u001b[0;34m)\u001b[0m\u001b[0;34m)\u001b[0m\u001b[0;34m\u001b[0m\u001b[0;34m\u001b[0m\u001b[0m\n",
            "\u001b[0;32m/usr/local/lib/python3.6/dist-packages/sklearn/svm/_base.py\u001b[0m in \u001b[0;36mfit\u001b[0;34m(self, X, y, sample_weight)\u001b[0m\n\u001b[1;32m    197\u001b[0m \u001b[0;34m\u001b[0m\u001b[0m\n\u001b[1;32m    198\u001b[0m         \u001b[0mseed\u001b[0m \u001b[0;34m=\u001b[0m \u001b[0mrnd\u001b[0m\u001b[0;34m.\u001b[0m\u001b[0mrandint\u001b[0m\u001b[0;34m(\u001b[0m\u001b[0mnp\u001b[0m\u001b[0;34m.\u001b[0m\u001b[0miinfo\u001b[0m\u001b[0;34m(\u001b[0m\u001b[0;34m'i'\u001b[0m\u001b[0;34m)\u001b[0m\u001b[0;34m.\u001b[0m\u001b[0mmax\u001b[0m\u001b[0;34m)\u001b[0m\u001b[0;34m\u001b[0m\u001b[0;34m\u001b[0m\u001b[0m\n\u001b[0;32m--> 199\u001b[0;31m         \u001b[0mfit\u001b[0m\u001b[0;34m(\u001b[0m\u001b[0mX\u001b[0m\u001b[0;34m,\u001b[0m \u001b[0my\u001b[0m\u001b[0;34m,\u001b[0m \u001b[0msample_weight\u001b[0m\u001b[0;34m,\u001b[0m \u001b[0msolver_type\u001b[0m\u001b[0;34m,\u001b[0m \u001b[0mkernel\u001b[0m\u001b[0;34m,\u001b[0m \u001b[0mrandom_seed\u001b[0m\u001b[0;34m=\u001b[0m\u001b[0mseed\u001b[0m\u001b[0;34m)\u001b[0m\u001b[0;34m\u001b[0m\u001b[0;34m\u001b[0m\u001b[0m\n\u001b[0m\u001b[1;32m    200\u001b[0m         \u001b[0;31m# see comment on the other call to np.iinfo in this file\u001b[0m\u001b[0;34m\u001b[0m\u001b[0;34m\u001b[0m\u001b[0;34m\u001b[0m\u001b[0m\n\u001b[1;32m    201\u001b[0m \u001b[0;34m\u001b[0m\u001b[0m\n",
            "\u001b[0;32m/usr/local/lib/python3.6/dist-packages/sklearn/svm/_base.py\u001b[0m in \u001b[0;36m_dense_fit\u001b[0;34m(self, X, y, sample_weight, solver_type, kernel, random_seed)\u001b[0m\n\u001b[1;32m    256\u001b[0m                 \u001b[0mcache_size\u001b[0m\u001b[0;34m=\u001b[0m\u001b[0mself\u001b[0m\u001b[0;34m.\u001b[0m\u001b[0mcache_size\u001b[0m\u001b[0;34m,\u001b[0m \u001b[0mcoef0\u001b[0m\u001b[0;34m=\u001b[0m\u001b[0mself\u001b[0m\u001b[0;34m.\u001b[0m\u001b[0mcoef0\u001b[0m\u001b[0;34m,\u001b[0m\u001b[0;34m\u001b[0m\u001b[0;34m\u001b[0m\u001b[0m\n\u001b[1;32m    257\u001b[0m                 \u001b[0mgamma\u001b[0m\u001b[0;34m=\u001b[0m\u001b[0mself\u001b[0m\u001b[0;34m.\u001b[0m\u001b[0m_gamma\u001b[0m\u001b[0;34m,\u001b[0m \u001b[0mepsilon\u001b[0m\u001b[0;34m=\u001b[0m\u001b[0mself\u001b[0m\u001b[0;34m.\u001b[0m\u001b[0mepsilon\u001b[0m\u001b[0;34m,\u001b[0m\u001b[0;34m\u001b[0m\u001b[0;34m\u001b[0m\u001b[0m\n\u001b[0;32m--> 258\u001b[0;31m                 max_iter=self.max_iter, random_seed=random_seed)\n\u001b[0m\u001b[1;32m    259\u001b[0m \u001b[0;34m\u001b[0m\u001b[0m\n\u001b[1;32m    260\u001b[0m         \u001b[0mself\u001b[0m\u001b[0;34m.\u001b[0m\u001b[0m_warn_from_fit_status\u001b[0m\u001b[0;34m(\u001b[0m\u001b[0;34m)\u001b[0m\u001b[0;34m\u001b[0m\u001b[0;34m\u001b[0m\u001b[0m\n",
            "\u001b[0;31mKeyboardInterrupt\u001b[0m: "
          ]
        }
      ]
    },
    {
      "cell_type": "code",
      "metadata": {
        "id": "fYIJfMGxCgPe",
        "colab_type": "code",
        "outputId": "40f2b180-2a4a-4a4a-9668-389fa34b9702",
        "colab": {
          "base_uri": "https://localhost:8080/",
          "height": 507
        }
      },
      "source": [
        "model = svm.SVC(C=1, kernel='linear')\n",
        "%time model.fit(hog_features_train, superclass_labels_train)\n",
        "y_pred = model.predict(hog_features_test)\n",
        "print(\"\\nFor optimal C =  1 in HOG\")\n",
        "metric(superclass_labels_test, y_pred)\n",
        "\n",
        "model = svm.SVC(C=1, kernel='linear')\n",
        "%time model.fit(inception_features_train, superclass_labels_train)\n",
        "y_pred = model.predict(inception_features_test)\n",
        "print(\"\\nFor optimal C = 0.01 in inception\")\n",
        "metric(superclass_labels_test, y_pred)"
      ],
      "execution_count": 0,
      "outputs": [
        {
          "output_type": "stream",
          "text": [
            "/usr/local/lib/python3.6/dist-packages/sklearn/utils/validation.py:760: DataConversionWarning: A column-vector y was passed when a 1d array was expected. Please change the shape of y to (n_samples, ), for example using ravel().\n",
            "  y = column_or_1d(y, warn=True)\n"
          ],
          "name": "stderr"
        },
        {
          "output_type": "stream",
          "text": [
            "\n",
            "For optimal C =  1 in HOG\n",
            "TP = 126   FP = 60\n",
            "FN = 74    TN = 140\n",
            "Accuracy = 66.5%\n",
            "Precision = 0.6774193548387096\n",
            "Recall = 0.63\n",
            "NPV = 0.6542056074766355\n",
            "FPR = 0.3\n",
            "FDR = 0.3225806451612903\n",
            "F1-score = 0.6528497409326425\n",
            "F2-score = 0.6389452332657202\n"
          ],
          "name": "stdout"
        },
        {
          "output_type": "stream",
          "text": [
            "/usr/local/lib/python3.6/dist-packages/sklearn/utils/validation.py:760: DataConversionWarning: A column-vector y was passed when a 1d array was expected. Please change the shape of y to (n_samples, ), for example using ravel().\n",
            "  y = column_or_1d(y, warn=True)\n"
          ],
          "name": "stderr"
        },
        {
          "output_type": "stream",
          "text": [
            "\n",
            "For optimal C = 0.01 in inception\n",
            "TP = 172   FP = 28\n",
            "FN = 28    TN = 172\n",
            "Accuracy = 86.0%\n",
            "Precision = 0.86\n",
            "Recall = 0.86\n",
            "NPV = 0.86\n",
            "FPR = 0.14\n",
            "FDR = 0.14\n",
            "F1-score = 0.8599999999999999\n",
            "F2-score = 0.8599999999999999\n"
          ],
          "name": "stdout"
        }
      ]
    },
    {
      "cell_type": "code",
      "metadata": {
        "id": "6VPGpcs-EimO",
        "colab_type": "code",
        "outputId": "c18fdec0-ef8d-47af-e076-fffa8bfad9ad",
        "colab": {
          "base_uri": "https://localhost:8080/",
          "height": 1000
        }
      },
      "source": [
        "gamma = [2**(-4), 2**(-3), 2**(-2), 2**(-1), 1, 2, 2**(6)]\n",
        "print(\"HOG\")\n",
        "for g in gamma:\n",
        "    print(\"For gamma = \" + str(g))\n",
        "    model = svm.SVC(C=1000000, kernel='rbf', gamma=g)\n",
        "    k_fold_validation(model, folds_hog)\n",
        "    print('\\n')\n",
        "\n",
        "print(\"\\nInception\")\n",
        "for g in gamma:\n",
        "    print(\"For gamma = \" + str(g))\n",
        "    model = svm.SVC(C=1000000, kernel='rbf', gamma=g)\n",
        "    k_fold_validation(model, folds_inception)\n",
        "    print('\\n')"
      ],
      "execution_count": 0,
      "outputs": [
        {
          "output_type": "stream",
          "text": [
            "HOG\n",
            "For gamma = 0.0625\n",
            "Mean accuracy = 0.6855\n",
            "\n",
            "\n",
            "For gamma = 0.125\n",
            "Mean accuracy = 0.687\n",
            "\n",
            "\n",
            "For gamma = 0.25\n",
            "Mean accuracy = 0.6895\n",
            "\n",
            "\n",
            "For gamma = 0.5\n",
            "Mean accuracy = 0.6950000000000001\n",
            "\n",
            "\n",
            "For gamma = 1\n",
            "Mean accuracy = 0.706\n",
            "\n",
            "\n",
            "For gamma = 2\n",
            "Mean accuracy = 0.6945\n",
            "\n",
            "\n",
            "For gamma = 64\n",
            "Mean accuracy = 0.476\n",
            "\n",
            "\n",
            "\n",
            "Inception\n",
            "For gamma = 0.0625\n",
            "Mean accuracy = 0.5\n",
            "\n",
            "\n",
            "For gamma = 0.125\n",
            "Mean accuracy = 0.475\n",
            "\n",
            "\n",
            "For gamma = 0.25\n",
            "Mean accuracy = 0.472\n",
            "\n",
            "\n",
            "For gamma = 0.5\n",
            "Mean accuracy = 0.472\n",
            "\n",
            "\n",
            "For gamma = 1\n",
            "Mean accuracy = 0.472\n",
            "\n",
            "\n",
            "For gamma = 2\n",
            "Mean accuracy = 0.472\n",
            "\n",
            "\n",
            "For gamma = 64\n",
            "Mean accuracy = 0.472\n",
            "\n",
            "\n"
          ],
          "name": "stdout"
        }
      ]
    },
    {
      "cell_type": "code",
      "metadata": {
        "id": "6itisUPTHfAQ",
        "colab_type": "code",
        "outputId": "61b3e7a8-647d-4c7b-d731-93d6fdaf541f",
        "colab": {
          "base_uri": "https://localhost:8080/",
          "height": 574
        }
      },
      "source": [
        "model = svm.SVC(C=1000000, kernel='rbf', gamma=1)\n",
        "%time model.fit(hog_features_train, superclass_labels_train)\n",
        "y_pred = model.predict(hog_features_test)\n",
        "print(\"\\nFor optimal gamma = 1 in HOG\")\n",
        "metric(superclass_labels_test, y_pred)\n",
        "\n",
        "model = svm.SVC(C=1000000, kernel='rbf', gamma=0.0625)\n",
        "%time model.fit(inception_features_train, superclass_labels_train)\n",
        "y_pred = model.predict(inception_features_test)\n",
        "print(\"\\nFor optimal gamma = 0.0625 in inception\")\n",
        "metric(superclass_labels_test, y_pred)"
      ],
      "execution_count": 0,
      "outputs": [
        {
          "output_type": "stream",
          "text": [
            "/usr/local/lib/python3.6/dist-packages/sklearn/utils/validation.py:760: DataConversionWarning: A column-vector y was passed when a 1d array was expected. Please change the shape of y to (n_samples, ), for example using ravel().\n",
            "  y = column_or_1d(y, warn=True)\n"
          ],
          "name": "stderr"
        },
        {
          "output_type": "stream",
          "text": [
            "CPU times: user 2.14 s, sys: 2 ms, total: 2.14 s\n",
            "Wall time: 2.15 s\n",
            "\n",
            "For optimal gamma = 1 in HOG\n",
            "TP = 146   FP = 57\n",
            "FN = 54    TN = 143\n",
            "Accuracy = 72.25%\n",
            "Precision = 0.7192118226600985\n",
            "Recall = 0.73\n",
            "NPV = 0.7258883248730964\n",
            "FPR = 0.285\n",
            "FDR = 0.28078817733990147\n",
            "F1-score = 0.7245657568238213\n",
            "F2-score = 0.727816550348953\n"
          ],
          "name": "stdout"
        },
        {
          "output_type": "stream",
          "text": [
            "/usr/local/lib/python3.6/dist-packages/sklearn/utils/validation.py:760: DataConversionWarning: A column-vector y was passed when a 1d array was expected. Please change the shape of y to (n_samples, ), for example using ravel().\n",
            "  y = column_or_1d(y, warn=True)\n"
          ],
          "name": "stderr"
        },
        {
          "output_type": "stream",
          "text": [
            "CPU times: user 13.6 s, sys: 0 ns, total: 13.6 s\n",
            "Wall time: 13.6 s\n",
            "\n",
            "For optimal gamma = 0.0625 in inception\n",
            "TP = 200   FP = 165\n",
            "FN = 0    TN = 35\n",
            "Accuracy = 58.75%\n",
            "Precision = 0.547945205479452\n",
            "Recall = 1.0\n",
            "NPV = 1.0\n",
            "FPR = 0.825\n",
            "FDR = 0.4520547945205479\n",
            "F1-score = 0.7079646017699115\n",
            "F2-score = 0.8583690987124464\n"
          ],
          "name": "stdout"
        }
      ]
    },
    {
      "cell_type": "code",
      "metadata": {
        "id": "hq6X_22sJt8_",
        "colab_type": "code",
        "outputId": "67c5a094-7f5e-4919-823e-c4dde3e48fcc",
        "colab": {
          "base_uri": "https://localhost:8080/",
          "height": 1000
        }
      },
      "source": [
        "gamma = [2**(-2), 2, 2**(6)]\n",
        "C = [10**(-2), 1, 10**2]\n",
        "print(\"HOG\")\n",
        "for g in gamma:\n",
        "    for c in C:\n",
        "        print(\"For gamma = \" + str(g) + \" and c = \" + str(c))\n",
        "        model = svm.SVC(C=c, kernel='rbf', gamma=g)\n",
        "        k_fold_validation(model, folds_hog)\n",
        "        print('\\n')\n",
        "\n",
        "print(\"\\nInception\")\n",
        "for g in gamma:\n",
        "    for c in C:\n",
        "        print(\"For gamma = \" + str(g) + \" and c = \" + str(c))\n",
        "        model = svm.SVC(C=c, kernel='rbf', gamma=g)\n",
        "        k_fold_validation(model, folds_inception)\n",
        "        print('\\n')"
      ],
      "execution_count": 0,
      "outputs": [
        {
          "output_type": "stream",
          "text": [
            "HOG\n",
            "For gamma = 0.25 and c = 0.01\n",
            "Mean accuracy = 0.476\n",
            "\n",
            "\n",
            "For gamma = 0.25 and c = 1\n",
            "Mean accuracy = 0.6945\n",
            "\n",
            "\n",
            "For gamma = 0.25 and c = 100\n",
            "Mean accuracy = 0.6895\n",
            "\n",
            "\n",
            "For gamma = 2 and c = 0.01\n",
            "Mean accuracy = 0.476\n",
            "\n",
            "\n",
            "For gamma = 2 and c = 1\n",
            "Mean accuracy = 0.6860000000000002\n",
            "\n",
            "\n",
            "For gamma = 2 and c = 100\n",
            "Mean accuracy = 0.6945\n",
            "\n",
            "\n",
            "For gamma = 64 and c = 0.01\n",
            "Mean accuracy = 0.476\n",
            "\n",
            "\n",
            "For gamma = 64 and c = 1\n",
            "Mean accuracy = 0.476\n",
            "\n",
            "\n",
            "For gamma = 64 and c = 100\n",
            "Mean accuracy = 0.476\n",
            "\n",
            "\n",
            "\n",
            "Inception\n",
            "For gamma = 0.25 and c = 0.01\n",
            "Mean accuracy = 0.472\n",
            "\n",
            "\n",
            "For gamma = 0.25 and c = 1\n",
            "Mean accuracy = 0.472\n",
            "\n",
            "\n",
            "For gamma = 0.25 and c = 100\n",
            "Mean accuracy = 0.472\n",
            "\n",
            "\n",
            "For gamma = 2 and c = 0.01\n",
            "Mean accuracy = 0.472\n",
            "\n",
            "\n",
            "For gamma = 2 and c = 1\n",
            "Mean accuracy = 0.472\n",
            "\n",
            "\n",
            "For gamma = 2 and c = 100\n",
            "Mean accuracy = 0.472\n",
            "\n",
            "\n",
            "For gamma = 64 and c = 0.01\n",
            "Mean accuracy = 0.472\n",
            "\n",
            "\n",
            "For gamma = 64 and c = 1\n",
            "Mean accuracy = 0.472\n",
            "\n",
            "\n",
            "For gamma = 64 and c = 100\n",
            "Mean accuracy = 0.472\n",
            "\n",
            "\n"
          ],
          "name": "stdout"
        }
      ]
    },
    {
      "cell_type": "code",
      "metadata": {
        "id": "lFy5notYKeFW",
        "colab_type": "code",
        "outputId": "a925f794-fd78-4485-cbc6-58ed9513473b",
        "colab": {
          "base_uri": "https://localhost:8080/",
          "height": 574
        }
      },
      "source": [
        "model = svm.SVC(C=100, kernel='rbf', gamma=2)\n",
        "%time model.fit(hog_features_train, superclass_labels_train)\n",
        "y_pred = model.predict(hog_features_test)\n",
        "print(\"\\nFor optimal gamma = 2 and C = 100 in HOG\")\n",
        "metric(superclass_labels_test, y_pred)\n",
        "\n",
        "model = svm.SVC(C=100, kernel='rbf', gamma=0.25)\n",
        "%time model.fit(inception_features_train, superclass_labels_train)\n",
        "y_pred = model.predict(inception_features_test)\n",
        "print(\"\\nFor optimal gamma = 0.25 and C = 100 in inception\")\n",
        "metric(superclass_labels_test, y_pred)"
      ],
      "execution_count": 0,
      "outputs": [
        {
          "output_type": "stream",
          "text": [
            "/usr/local/lib/python3.6/dist-packages/sklearn/utils/validation.py:760: DataConversionWarning: A column-vector y was passed when a 1d array was expected. Please change the shape of y to (n_samples, ), for example using ravel().\n",
            "  y = column_or_1d(y, warn=True)\n"
          ],
          "name": "stderr"
        },
        {
          "output_type": "stream",
          "text": [
            "CPU times: user 2.14 s, sys: 0 ns, total: 2.14 s\n",
            "Wall time: 2.14 s\n",
            "\n",
            "For optimal gamma = XX and C = XX in HOG\n",
            "TP = 147   FP = 64\n",
            "FN = 53    TN = 136\n",
            "Accuracy = 70.75%\n",
            "Precision = 0.6966824644549763\n",
            "Recall = 0.735\n",
            "NPV = 0.7195767195767195\n",
            "FPR = 0.32\n",
            "FDR = 0.3033175355450237\n",
            "F1-score = 0.7153284671532847\n",
            "F2-score = 0.7270029673590505\n"
          ],
          "name": "stdout"
        },
        {
          "output_type": "stream",
          "text": [
            "/usr/local/lib/python3.6/dist-packages/sklearn/utils/validation.py:760: DataConversionWarning: A column-vector y was passed when a 1d array was expected. Please change the shape of y to (n_samples, ), for example using ravel().\n",
            "  y = column_or_1d(y, warn=True)\n"
          ],
          "name": "stderr"
        },
        {
          "output_type": "stream",
          "text": [
            "CPU times: user 13.6 s, sys: 3.99 ms, total: 13.6 s\n",
            "Wall time: 13.6 s\n",
            "\n",
            "For optimal gamma = 0.XX and C = XX in inception\n",
            "TP = 200   FP = 197\n",
            "FN = 0    TN = 3\n",
            "Accuracy = 50.75%\n",
            "Precision = 0.5037783375314862\n",
            "Recall = 1.0\n",
            "NPV = 1.0\n",
            "FPR = 0.985\n",
            "FDR = 0.49622166246851385\n",
            "F1-score = 0.6700167504187605\n",
            "F2-score = 0.835421888053467\n"
          ],
          "name": "stdout"
        }
      ]
    },
    {
      "cell_type": "code",
      "metadata": {
        "id": "uxi4_cWKXxri",
        "colab_type": "code",
        "colab": {}
      },
      "source": [
        "folds_hog_subclass = stratified_k_fold(hog_features_train, subclass_labels_train, 5)\n",
        "folds_inception_subclass = stratified_k_fold(inception_features_train, subclass_labels_train, 5)"
      ],
      "execution_count": 0,
      "outputs": []
    },
    {
      "cell_type": "code",
      "metadata": {
        "id": "06lreukFWc1G",
        "colab_type": "code",
        "outputId": "d9234ddf-e812-4b2e-a188-08ad64e4b223",
        "colab": {
          "base_uri": "https://localhost:8080/",
          "height": 1000
        }
      },
      "source": [
        "gamma = [2**(-2), 2, 2**(6)]\n",
        "C = [10**(-2), 1, 10**2]\n",
        "print(\"HOG\")\n",
        "for g in gamma:\n",
        "    for c in C:\n",
        "        print(\"For gamma = \" + str(g) + \" and c = \" + str(c))\n",
        "        model = svm.SVC(C=c, kernel='rbf', gamma=g, decision_function_shape='ovr')\n",
        "        k_fold_validation(model, folds_hog_subclass)\n",
        "        print('\\n')\n",
        "\n",
        "print(\"\\nInception\")\n",
        "for g in gamma:\n",
        "    for c in C:\n",
        "        print(\"For gamma = \" + str(g) + \" and c = \" + str(c))\n",
        "        model = svm.SVC(C=c, kernel='rbf', gamma=g, decision_function_shape='ovr')\n",
        "        k_fold_validation(model, folds_inception_subclass)\n",
        "        print('\\n')"
      ],
      "execution_count": 0,
      "outputs": [
        {
          "output_type": "stream",
          "text": [
            "HOG\n",
            "For gamma = 0.25 and c = 0.01\n",
            "Mean accuracy = 0.08700000000000001\n",
            "\n",
            "\n",
            "For gamma = 0.25 and c = 1\n",
            "Mean accuracy = 0.3305\n",
            "\n",
            "\n",
            "For gamma = 0.25 and c = 100\n",
            "Mean accuracy = 0.3235\n",
            "\n",
            "\n",
            "For gamma = 2 and c = 0.01\n",
            "Mean accuracy = 0.08650000000000001\n",
            "\n",
            "\n",
            "For gamma = 2 and c = 1\n",
            "Mean accuracy = 0.3405\n",
            "\n",
            "\n",
            "For gamma = 2 and c = 100\n",
            "Mean accuracy = 0.3535\n",
            "\n",
            "\n",
            "For gamma = 64 and c = 0.01\n",
            "Mean accuracy = 0.0785\n",
            "\n",
            "\n",
            "For gamma = 64 and c = 1\n",
            "Mean accuracy = 0.0785\n",
            "\n",
            "\n",
            "For gamma = 64 and c = 100\n",
            "Mean accuracy = 0.0785\n",
            "\n",
            "\n",
            "\n",
            "Inception\n",
            "For gamma = 0.25 and c = 0.01\n",
            "Mean accuracy = 0.079\n",
            "\n",
            "\n",
            "For gamma = 0.25 and c = 1\n",
            "Mean accuracy = 0.079\n",
            "\n",
            "\n",
            "For gamma = 0.25 and c = 100\n",
            "Mean accuracy = 0.079\n",
            "\n",
            "\n",
            "For gamma = 2 and c = 0.01\n",
            "Mean accuracy = 0.079\n",
            "\n",
            "\n",
            "For gamma = 2 and c = 1\n",
            "Mean accuracy = 0.079\n",
            "\n",
            "\n",
            "For gamma = 2 and c = 100\n",
            "Mean accuracy = 0.079\n",
            "\n",
            "\n",
            "For gamma = 64 and c = 0.01\n",
            "Mean accuracy = 0.079\n",
            "\n",
            "\n",
            "For gamma = 64 and c = 1\n",
            "Mean accuracy = 0.079\n",
            "\n",
            "\n",
            "For gamma = 64 and c = 100\n",
            "Mean accuracy = 0.079\n",
            "\n",
            "\n"
          ],
          "name": "stdout"
        }
      ]
    },
    {
      "cell_type": "code",
      "metadata": {
        "id": "rZG8hKeAl0f5",
        "colab_type": "code",
        "outputId": "27b48079-fac9-429d-d8c3-7c95ce01a5b3",
        "colab": {
          "base_uri": "https://localhost:8080/",
          "height": 1000
        }
      },
      "source": [
        "model = svm.SVC(C=100, kernel='rbf', gamma=2)\n",
        "%time model.fit(hog_features_train, subclass_labels_train)\n",
        "y_pred = model.predict(hog_features_test)\n",
        "print(\"\\nFor optimal gamma = XX and C = XX in HOG\")\n",
        "print(\"Accuracy = \" + str(metrics.accuracy_score(subclass_labels_test, y_pred)))\n",
        "print(\"Macro-Precision = \" + str(metrics.precision_score(subclass_labels_test, y_pred, average='macro')))\n",
        "print(\"Micro-Precision = \" + str(metrics.precision_score(subclass_labels_test, y_pred, average='micro')))\n",
        "print(\"Macro-Recall = \" + str(metrics.recall_score(subclass_labels_test, y_pred, average='macro')))\n",
        "print(\"MicroRecall = \" + str(metrics.recall_score(subclass_labels_test, y_pred, average='micro')))\n",
        "print(\"Confusion Matrix:\") \n",
        "print(metrics.multilabel_confusion_matrix(subclass_labels_test, y_pred))\n",
        "\n",
        "model = svm.SVC(C=100, kernel='rbf', gamma=0.25)\n",
        "%time model.fit(inception_features_train, subclass_labels_train)\n",
        "y_pred = model.predict(inception_features_test)\n",
        "print(\"\\nFor optimal gamma = 0.XX and C = XX in inception\")\n",
        "print(\"Accuracy = \" + str(metrics.accuracy_score(subclass_labels_test, y_pred)))\n",
        "print(\"Macro-Precision = \" + str(metrics.precision_score(subclass_labels_test, y_pred, average='macro')))\n",
        "print(\"Micro-Precision = \" + str(metrics.precision_score(subclass_labels_test, y_pred, average='micro')))\n",
        "print(\"Macro-Recall = \" + str(metrics.recall_score(subclass_labels_test, y_pred, average='macro')))\n",
        "print(\"Micro-Recall = \" + str(metrics.recall_score(subclass_labels_test, y_pred, average='micro')))\n",
        "print(\"Confusion Matrix:\") \n",
        "print(metrics.multilabel_confusion_matrix(subclass_labels_test, y_pred))"
      ],
      "execution_count": 0,
      "outputs": [
        {
          "output_type": "stream",
          "text": [
            "/usr/local/lib/python3.6/dist-packages/sklearn/utils/validation.py:760: DataConversionWarning: A column-vector y was passed when a 1d array was expected. Please change the shape of y to (n_samples, ), for example using ravel().\n",
            "  y = column_or_1d(y, warn=True)\n"
          ],
          "name": "stderr"
        },
        {
          "output_type": "stream",
          "text": [
            "CPU times: user 3.83 s, sys: 0 ns, total: 3.83 s\n",
            "Wall time: 3.83 s\n",
            "\n",
            "For optimal gamma = XX and C = XX in HOG\n",
            "Accuracy = 0.36\n",
            "Macro-Precision = 0.36273898909503366\n",
            "Micro-Precision = 0.36\n",
            "Macro-Recall = 0.36\n",
            "MicroRecall = 0.36\n",
            "Confusion Matrix:\n",
            "[[[340  20]\n",
            "  [ 19  21]]\n",
            "\n",
            " [[333  27]\n",
            "  [ 32   8]]\n",
            "\n",
            " [[345  15]\n",
            "  [ 35   5]]\n",
            "\n",
            " [[325  35]\n",
            "  [ 29  11]]\n",
            "\n",
            " [[316  44]\n",
            "  [ 20  20]]\n",
            "\n",
            " [[337  23]\n",
            "  [ 24  16]]\n",
            "\n",
            " [[336  24]\n",
            "  [ 20  20]]\n",
            "\n",
            " [[340  20]\n",
            "  [ 28  12]]\n",
            "\n",
            " [[325  35]\n",
            "  [ 29  11]]\n",
            "\n",
            " [[347  13]\n",
            "  [ 20  20]]]\n"
          ],
          "name": "stdout"
        },
        {
          "output_type": "stream",
          "text": [
            "/usr/local/lib/python3.6/dist-packages/sklearn/utils/validation.py:760: DataConversionWarning: A column-vector y was passed when a 1d array was expected. Please change the shape of y to (n_samples, ), for example using ravel().\n",
            "  y = column_or_1d(y, warn=True)\n"
          ],
          "name": "stderr"
        },
        {
          "output_type": "stream",
          "text": [
            "CPU times: user 22.7 s, sys: 2.42 ms, total: 22.7 s\n",
            "Wall time: 22.7 s\n",
            "\n",
            "For optimal gamma = 0.XX and C = XX in inception\n",
            "Accuracy = 0.1275\n",
            "Macro-Precision = 0.7102827763496145\n",
            "Micro-Precision = 0.1275\n",
            "Macro-Recall = 0.1275\n",
            "Micro-Recall = 0.1275\n",
            "Confusion Matrix:\n",
            "[[[360   0]\n",
            "  [ 37   3]]\n",
            "\n",
            " [[360   0]\n",
            "  [ 39   1]]\n",
            "\n",
            " [[ 11 349]\n",
            "  [  0  40]]\n",
            "\n",
            " [[360   0]\n",
            "  [ 40   0]]\n",
            "\n",
            " [[360   0]\n",
            "  [ 39   1]]\n",
            "\n",
            " [[360   0]\n",
            "  [ 39   1]]\n",
            "\n",
            " [[360   0]\n",
            "  [ 39   1]]\n",
            "\n",
            " [[360   0]\n",
            "  [ 40   0]]\n",
            "\n",
            " [[360   0]\n",
            "  [ 39   1]]\n",
            "\n",
            " [[360   0]\n",
            "  [ 37   3]]]\n"
          ],
          "name": "stdout"
        },
        {
          "output_type": "stream",
          "text": [
            "/usr/local/lib/python3.6/dist-packages/sklearn/metrics/_classification.py:1272: UndefinedMetricWarning: Precision is ill-defined and being set to 0.0 in labels with no predicted samples. Use `zero_division` parameter to control this behavior.\n",
            "  _warn_prf(average, modifier, msg_start, len(result))\n"
          ],
          "name": "stderr"
        }
      ]
    },
    {
      "cell_type": "code",
      "metadata": {
        "id": "mAS-c8A6xIFB",
        "colab_type": "code",
        "outputId": "6edea044-b46c-453f-9ee0-7b1e10dc483f",
        "colab": {
          "base_uri": "https://localhost:8080/",
          "height": 1000
        }
      },
      "source": [
        "gamma = [2**(-2), 2, 2**(6)]\n",
        "degree = [3, 5, 7]\n",
        "print(\"HOG\")\n",
        "for g in gamma:\n",
        "    for d in degree:\n",
        "        print(\"For gamma = \" + str(g) + \" and d = \" + str(d))\n",
        "        model = svm.SVC(C=1000000, kernel='poly', gamma=g, degree=d, decision_function_shape='ovr')\n",
        "        k_fold_validation(model, folds_hog_subclass)\n",
        "        print('\\n')\n",
        "\n",
        "print(\"\\nInception\")\n",
        "for g in gamma:\n",
        "    for d in degree:\n",
        "        print(\"For gamma = \" + str(g) + \" and d = \" + str(d))\n",
        "        model = svm.SVC(C=1000000, kernel='poly', gamma=g, degree=d, decision_function_shape='ovr')\n",
        "        k_fold_validation(model, folds_inception_subclass)\n",
        "        print('\\n')"
      ],
      "execution_count": 0,
      "outputs": [
        {
          "output_type": "stream",
          "text": [
            "HOG\n",
            "For gamma = 0.25 and c = 100\n",
            "Mean accuracy = 0.33299999999999996\n",
            "\n",
            "\n",
            "For gamma = 0.25 and c = 100\n",
            "Mean accuracy = 0.35700000000000004\n",
            "\n",
            "\n",
            "For gamma = 0.25 and c = 100\n",
            "Mean accuracy = 0.37249999999999994\n",
            "\n",
            "\n",
            "For gamma = 2 and c = 100\n",
            "Mean accuracy = 0.33299999999999996\n",
            "\n",
            "\n",
            "For gamma = 2 and c = 100\n",
            "Mean accuracy = 0.35700000000000004\n",
            "\n",
            "\n",
            "For gamma = 2 and c = 100\n",
            "Mean accuracy = 0.37249999999999994\n",
            "\n",
            "\n",
            "For gamma = 64 and c = 100\n",
            "Mean accuracy = 0.33299999999999996\n",
            "\n",
            "\n",
            "For gamma = 64 and c = 100\n",
            "Mean accuracy = 0.35700000000000004\n",
            "\n",
            "\n",
            "For gamma = 64 and c = 100\n",
            "Mean accuracy = 0.37249999999999994\n",
            "\n",
            "\n",
            "\n",
            "Inception\n",
            "For gamma = 0.25 and c = 100\n",
            "Mean accuracy = 0.6745\n",
            "\n",
            "\n",
            "For gamma = 0.25 and c = 100\n",
            "Mean accuracy = 0.6615\n",
            "\n",
            "\n",
            "For gamma = 0.25 and c = 100\n",
            "Mean accuracy = 0.631\n",
            "\n",
            "\n",
            "For gamma = 2 and c = 100\n",
            "Mean accuracy = 0.6745\n",
            "\n",
            "\n",
            "For gamma = 2 and c = 100\n",
            "Mean accuracy = 0.6615\n",
            "\n",
            "\n",
            "For gamma = 2 and c = 100\n",
            "Mean accuracy = 0.631\n",
            "\n",
            "\n",
            "For gamma = 64 and c = 100\n",
            "Mean accuracy = 0.6745\n",
            "\n",
            "\n",
            "For gamma = 64 and c = 100\n",
            "Mean accuracy = 0.6615\n",
            "\n",
            "\n",
            "For gamma = 64 and c = 100\n",
            "Mean accuracy = 0.631\n",
            "\n",
            "\n"
          ],
          "name": "stdout"
        }
      ]
    },
    {
      "cell_type": "code",
      "metadata": {
        "id": "l0lLf6qX0RVD",
        "colab_type": "code",
        "outputId": "521a9b86-0dd4-4f0a-fa5d-d5402c07cf97",
        "colab": {
          "base_uri": "https://localhost:8080/",
          "height": 1000
        }
      },
      "source": [
        "model = svm.SVC(C=1000000, kernel='poly', gamma=0.25, degree=3)\n",
        "%time model.fit(hog_features_train, subclass_labels_train)\n",
        "y_pred = model.predict(hog_features_test)\n",
        "print(\"\\nFor optimal gamma = XX and C = XX in HOG\")\n",
        "print(\"Accuracy = \" + str(metrics.accuracy_score(subclass_labels_test, y_pred)))\n",
        "print(\"Macro-Precision = \" + str(metrics.precision_score(subclass_labels_test, y_pred, average='macro')))\n",
        "print(\"Micro-Precision = \" + str(metrics.precision_score(subclass_labels_test, y_pred, average='micro')))\n",
        "print(\"Macro-Recall = \" + str(metrics.recall_score(subclass_labels_test, y_pred, average='macro')))\n",
        "print(\"Micro-Recall = \" + str(metrics.recall_score(subclass_labels_test, y_pred, average='micro')))\n",
        "print(\"Macro F1 score = \" + str(metrics.f1_score(subclass_labels_test, y_pred, average='macro')))\n",
        "print(\"Micro F1 score = \" + str(metrics.f1_score(subclass_labels_test, y_pred, average='micro')))\n",
        "print(\"Confusion Matrix:\") \n",
        "print(metrics.multilabel_confusion_matrix(subclass_labels_test, y_pred))\n",
        "\n",
        "model = svm.SVC(C=1000000, kernel='poly', gamma=0.25, degree=3)\n",
        "%time model.fit(inception_features_train, subclass_labels_train)\n",
        "y_pred = model.predict(inception_features_test)\n",
        "print(\"\\nFor optimal gamma = 0.XX and C = XX in inception\")\n",
        "print(\"Accuracy = \" + str(metrics.accuracy_score(subclass_labels_test, y_pred)))\n",
        "print(\"Macro-Precision = \" + str(metrics.precision_score(subclass_labels_test, y_pred, average='macro')))\n",
        "print(\"Micro-Precision = \" + str(metrics.precision_score(subclass_labels_test, y_pred, average='micro')))\n",
        "print(\"Macro-Recall = \" + str(metrics.recall_score(subclass_labels_test, y_pred, average='macro')))\n",
        "print(\"Micro-Recall = \" + str(metrics.recall_score(subclass_labels_test, y_pred, average='micro')))\n",
        "print(\"Macro F1 score = \" + str(metrics.f1_score(subclass_labels_test, y_pred, average='macro')))\n",
        "print(\"Macro F1 score = \" + str(metrics.f1_score(subclass_labels_test, y_pred, average='micro')))\n",
        "print(\"Confusion Matrix:\") \n",
        "print(metrics.multilabel_confusion_matrix(subclass_labels_test, y_pred))\n"
      ],
      "execution_count": 0,
      "outputs": [
        {
          "output_type": "stream",
          "text": [
            "/usr/local/lib/python3.6/dist-packages/sklearn/utils/validation.py:760: DataConversionWarning: A column-vector y was passed when a 1d array was expected. Please change the shape of y to (n_samples, ), for example using ravel().\n",
            "  y = column_or_1d(y, warn=True)\n"
          ],
          "name": "stderr"
        },
        {
          "output_type": "stream",
          "text": [
            "CPU times: user 3.34 s, sys: 0 ns, total: 3.34 s\n",
            "Wall time: 3.34 s\n",
            "\n",
            "For optimal gamma = XX and C = XX in HOG\n",
            "Accuracy = 0.3775\n",
            "Macro-Precision = 0.3786092638567891\n",
            "Micro-Precision = 0.3775\n",
            "Macro-Recall = 0.3775\n",
            "Micro-Recall = 0.3775\n",
            "Macro F1 score = 0.37377074034085395\n",
            "Micro F1 score = 0.3775\n",
            "Confusion Matrix:\n",
            "[[[325  35]\n",
            "  [ 22  18]]\n",
            "\n",
            " [[330  30]\n",
            "  [ 24  16]]\n",
            "\n",
            " [[340  20]\n",
            "  [ 31   9]]\n",
            "\n",
            " [[330  30]\n",
            "  [ 32   8]]\n",
            "\n",
            " [[326  34]\n",
            "  [ 18  22]]\n",
            "\n",
            " [[338  22]\n",
            "  [ 25  15]]\n",
            "\n",
            " [[337  23]\n",
            "  [ 20  20]]\n",
            "\n",
            " [[340  20]\n",
            "  [ 28  12]]\n",
            "\n",
            " [[337  23]\n",
            "  [ 30  10]]\n",
            "\n",
            " [[348  12]\n",
            "  [ 19  21]]]\n"
          ],
          "name": "stdout"
        },
        {
          "output_type": "stream",
          "text": [
            "/usr/local/lib/python3.6/dist-packages/sklearn/utils/validation.py:760: DataConversionWarning: A column-vector y was passed when a 1d array was expected. Please change the shape of y to (n_samples, ), for example using ravel().\n",
            "  y = column_or_1d(y, warn=True)\n"
          ],
          "name": "stderr"
        },
        {
          "output_type": "stream",
          "text": [
            "CPU times: user 10.9 s, sys: 1.91 ms, total: 10.9 s\n",
            "Wall time: 10.9 s\n",
            "\n",
            "For optimal gamma = 0.XX and C = XX in inception\n",
            "Accuracy = 0.7275\n",
            "Macro-Precision = 0.7254751809640307\n",
            "Micro-Precision = 0.7275\n",
            "Macro-Recall = 0.7275\n",
            "Micro-Recall = 0.7275\n",
            "Macro F1 score = 0.7257021222711493\n",
            "Macro F1 score = 0.7275000000000001\n",
            "Confusion Matrix:\n",
            "[[[348  12]\n",
            "  [  9  31]]\n",
            "\n",
            " [[349  11]\n",
            "  [ 10  30]]\n",
            "\n",
            " [[341  19]\n",
            "  [ 23  17]]\n",
            "\n",
            " [[346  14]\n",
            "  [ 12  28]]\n",
            "\n",
            " [[351   9]\n",
            "  [  9  31]]\n",
            "\n",
            " [[356   4]\n",
            "  [  5  35]]\n",
            "\n",
            " [[351   9]\n",
            "  [  9  31]]\n",
            "\n",
            " [[348  12]\n",
            "  [  7  33]]\n",
            "\n",
            " [[348  12]\n",
            "  [ 16  24]]\n",
            "\n",
            " [[353   7]\n",
            "  [  9  31]]]\n"
          ],
          "name": "stdout"
        }
      ]
    },
    {
      "cell_type": "markdown",
      "metadata": {
        "id": "pnYMCUDv77Wl",
        "colab_type": "text"
      },
      "source": [
        "# Part 2"
      ]
    },
    {
      "cell_type": "code",
      "metadata": {
        "id": "l21XIbBk8B4_",
        "colab_type": "code",
        "colab": {}
      },
      "source": [
        "def svd(X):\n",
        "    U, S, V_t = np.linalg.svd(X, full_matrices=False)\n",
        "    return np.dot(U , V_t)\n",
        "\n",
        "\n",
        "def pca(X):\n",
        "    X -= np.mean(X, axis=0)\n",
        "    covariance_matrix = np.cov(X)\n",
        "    eigen_vals, eigen_vecs = np.linalg.eig(covariance_matrix)\n",
        "    \n",
        "    # return np.dot(eigen_vecs, np.dot(eigen_vecs.T, X)) + np.mean(X, axis=0)\n",
        "    return np.dot(eigen_vecs.T, X) + np.mean(X, axis=0)"
      ],
      "execution_count": 0,
      "outputs": []
    },
    {
      "cell_type": "code",
      "metadata": {
        "id": "WgTOmLw_vLWg",
        "colab_type": "code",
        "outputId": "4f3f4aa8-0184-4012-ebd2-2f86551f6b52",
        "colab": {
          "base_uri": "https://localhost:8080/",
          "height": 185
        }
      },
      "source": [
        "%time X = pca(image_matrix)\n",
        "print(\"MSE (covariance) = \" + str(np.average((image_matrix - X)**2, axis=0).mean()))\n",
        "print(\"RMSE (covariance) = \" + str(np.sqrt(np.average((image_matrix - X)**2, axis=0)).mean()))\n",
        "print(\"MAE (covariance) = \" + str(np.average(np.abs(image_matrix - X), axis=0).mean()))\n",
        "\n",
        "%time S = svd(image_matrix)\n",
        "print(\"MSE (SVD) = \" + str(np.average((image_matrix - S)**2, axis=0).mean()))\n",
        "print(\"RMSE (SVD) = \" + str(np.sqrt(np.average((image_matrix - S)**2, axis=0)).mean()))\n",
        "print(\"MAE (SVD) = \" + str(np.average(np.abs(image_matrix - S), axis=0).mean()))\n"
      ],
      "execution_count": 0,
      "outputs": [
        {
          "output_type": "stream",
          "text": [
            "CPU times: user 99.1 ms, sys: 45.4 ms, total: 144 ms\n",
            "Wall time: 80.8 ms\n",
            "MSE (covariance) = 0.05433630078215706\n",
            "RMSE (covariance) = 0.12410266766007307\n",
            "MAE (covariance) = 0.0787376559493301\n",
            "CPU times: user 578 ms, sys: 83.8 ms, total: 662 ms\n",
            "Wall time: 336 ms\n",
            "MSE (SVD) = 0.025383417\n",
            "RMSE (SVD) = 0.084498964\n",
            "MAE (SVD) = 0.055515982\n"
          ],
          "name": "stdout"
        }
      ]
    },
    {
      "cell_type": "code",
      "metadata": {
        "id": "QKQGnurWQH50",
        "colab_type": "code",
        "outputId": "48529e89-c4c9-4259-94bf-c17d157a54e7",
        "colab": {
          "base_uri": "https://localhost:8080/",
          "height": 244
        }
      },
      "source": [
        "fig, axarr = plt.subplots(3,5) \n",
        "\n",
        "for i in range(5):\n",
        "    axarr[0][i].imshow(image_matrix[i].reshape((85, 125)))\n",
        "\n",
        "for i in range(5):\n",
        "    axarr[1][i].imshow(X[i].reshape((85, 125)))\n",
        "\n",
        "for i in range(5):\n",
        "    axarr[2][i].imshow(S[i].reshape((85, 125)))\n"
      ],
      "execution_count": 0,
      "outputs": [
        {
          "output_type": "display_data",
          "data": {
            "image/png": "[encoded data removed]",
            "text/plain": [
              "<Figure size 432x288 with 15 Axes>"
            ]
          },
          "metadata": {
            "tags": [],
            "needs_background": "light"
          }
        }
      ]
    }
  ]
}